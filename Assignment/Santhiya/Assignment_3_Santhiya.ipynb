{
  "nbformat": 4,
  "nbformat_minor": 0,
  "metadata": {
    "colab": {
      "provenance": []
    },
    "kernelspec": {
      "name": "python3",
      "display_name": "Python 3"
    },
    "language_info": {
      "name": "python"
    }
  },
  "cells": [
    {
      "cell_type": "code",
      "execution_count": 1,
      "metadata": {
        "colab": {
          "base_uri": "https://localhost:8080/"
        },
        "id": "9ieMmQ--WmtX",
        "outputId": "b3dad6e5-bd91-4834-8572-18b75d2a7680"
      },
      "outputs": [
        {
          "output_type": "stream",
          "name": "stdout",
          "text": [
            "\u001b[0m\u001b[01;34msample_data\u001b[0m/\n"
          ]
        }
      ],
      "source": [
        "ls\n"
      ]
    },
    {
      "cell_type": "code",
      "source": [
        "cd /content/drive/MyDrive/CNN ASS"
      ],
      "metadata": {
        "colab": {
          "base_uri": "https://localhost:8080/"
        },
        "id": "0DsEcn9AWxL5",
        "outputId": "b1d219b5-63d4-4429-d25f-337e337e78ba"
      },
      "execution_count": 2,
      "outputs": [
        {
          "output_type": "stream",
          "name": "stdout",
          "text": [
            "/content/drive/MyDrive/CNN ASS\n"
          ]
        }
      ]
    },
    {
      "cell_type": "code",
      "source": [
        "ls"
      ],
      "metadata": {
        "colab": {
          "base_uri": "https://localhost:8080/"
        },
        "id": "jCDmmGbNXEcS",
        "outputId": "84831d30-3437-446e-8ec0-276c3e117d62"
      },
      "execution_count": 3,
      "outputs": [
        {
          "output_type": "stream",
          "name": "stdout",
          "text": [
            "\u001b[0m\u001b[01;34mflowers\u001b[0m/  Untitled0.ipynb\n"
          ]
        }
      ]
    },
    {
      "cell_type": "code",
      "source": [
        "pwd"
      ],
      "metadata": {
        "colab": {
          "base_uri": "https://localhost:8080/",
          "height": 35
        },
        "id": "8YzwSOPKXH3T",
        "outputId": "e7b3e3be-4a31-408f-c042-846d15a61361"
      },
      "execution_count": 4,
      "outputs": [
        {
          "output_type": "execute_result",
          "data": {
            "text/plain": [
              "'/content/drive/MyDrive/CNN ASS'"
            ],
            "application/vnd.google.colaboratory.intrinsic+json": {
              "type": "string"
            }
          },
          "metadata": {},
          "execution_count": 4
        }
      ]
    },
    {
      "cell_type": "code",
      "source": [
        "from tensorflow.keras.preprocessing.image import ImageDataGenerator"
      ],
      "metadata": {
        "id": "bqWOJFlZXNcj"
      },
      "execution_count": 5,
      "outputs": []
    },
    {
      "cell_type": "code",
      "source": [
        "train_datagen = ImageDataGenerator(rescale= 1./255,horizontal_flip = True,vertical_flip = True,zoom_range = 0.2)"
      ],
      "metadata": {
        "id": "dZjcQLejXRrq"
      },
      "execution_count": 6,
      "outputs": []
    },
    {
      "cell_type": "code",
      "source": [
        "test_datagen = ImageDataGenerator(rescale= 1./255)"
      ],
      "metadata": {
        "id": "tLdXLqrnXT_c"
      },
      "execution_count": 7,
      "outputs": []
    },
    {
      "cell_type": "code",
      "source": [
        "x_train = train_datagen.flow_from_directory(r\"/content/drive/MyDrive/CNN ASS/flowers/Training\",target_size = (64,64),\n",
        "                                            class_mode = \"categorical\",batch_size = 24)"
      ],
      "metadata": {
        "colab": {
          "base_uri": "https://localhost:8080/"
        },
        "id": "1p0icrm7Xl-u",
        "outputId": "bc29e0ed-79c4-40bf-9b13-b32e8c4e059d"
      },
      "execution_count": 9,
      "outputs": [
        {
          "output_type": "stream",
          "name": "stdout",
          "text": [
            "Found 4181 images belonging to 5 classes.\n"
          ]
        }
      ]
    },
    {
      "cell_type": "code",
      "source": [
        "x_test = test_datagen.flow_from_directory(r\"/content/drive/MyDrive/CNN ASS/flowers/Testing\",target_size = (64,64),\n",
        "                                                                                      class_mode = \"categorical\",batch_size = 24)"
      ],
      "metadata": {
        "colab": {
          "base_uri": "https://localhost:8080/"
        },
        "id": "-_z6f2mnXu_b",
        "outputId": "ba0abdcc-8cba-4db6-99bd-1b8a0496f222"
      },
      "execution_count": 11,
      "outputs": [
        {
          "output_type": "stream",
          "name": "stdout",
          "text": [
            "Found 396 images belonging to 5 classes.\n"
          ]
        }
      ]
    },
    {
      "cell_type": "code",
      "source": [
        "#MODEL BUILDING\n",
        "from tensorflow.keras.models import Sequential\n",
        "from tensorflow.keras.layers import Convolution2D,MaxPooling2D,Flatten,Dense"
      ],
      "metadata": {
        "id": "Dg8lTFPrX1mJ"
      },
      "execution_count": 12,
      "outputs": []
    },
    {
      "cell_type": "code",
      "source": [
        "model = Sequential()"
      ],
      "metadata": {
        "id": "q5LKznD3YFn5"
      },
      "execution_count": 13,
      "outputs": []
    },
    {
      "cell_type": "code",
      "source": [
        "model.add(Convolution2D(32,(3,3),activation = \"relu\",input_shape = (64,64,3)))"
      ],
      "metadata": {
        "id": "_jlHaJazYH0G"
      },
      "execution_count": 14,
      "outputs": []
    },
    {
      "cell_type": "code",
      "source": [
        "model.add(MaxPooling2D(pool_size = (2,2)))"
      ],
      "metadata": {
        "id": "PX6EbEeAYMS1"
      },
      "execution_count": 15,
      "outputs": []
    },
    {
      "cell_type": "code",
      "source": [
        "model.add(Flatten())"
      ],
      "metadata": {
        "id": "3AhEE_2aYTQD"
      },
      "execution_count": 16,
      "outputs": []
    },
    {
      "cell_type": "code",
      "source": [
        "model.add(Dense(300, activation='relu'))"
      ],
      "metadata": {
        "id": "r8WHy8igYVU7"
      },
      "execution_count": 17,
      "outputs": []
    },
    {
      "cell_type": "code",
      "source": [
        "model.add(Dense(300, activation='relu'))"
      ],
      "metadata": {
        "id": "LJwkfHGLYiEt"
      },
      "execution_count": 18,
      "outputs": []
    },
    {
      "cell_type": "code",
      "source": [
        "model.add(Dense(300, activation='relu'))"
      ],
      "metadata": {
        "id": "sTBiovguYjrz"
      },
      "execution_count": 19,
      "outputs": []
    },
    {
      "cell_type": "code",
      "source": [
        "model.add(Dense(5, activation=\"softmax\"))"
      ],
      "metadata": {
        "id": "sq8EEOvEYlHL"
      },
      "execution_count": 20,
      "outputs": []
    },
    {
      "cell_type": "code",
      "source": [
        "model.compile(loss=\"categorical_crossentropy\", metrics=[\"accuracy\"], optimizer='adam')"
      ],
      "metadata": {
        "id": "Shyk0DrjYuTS"
      },
      "execution_count": 21,
      "outputs": []
    },
    {
      "cell_type": "code",
      "source": [
        "len(x_train)"
      ],
      "metadata": {
        "colab": {
          "base_uri": "https://localhost:8080/"
        },
        "id": "zmTfWnGWY6SX",
        "outputId": "07c43d02-96ef-4e6e-afc2-8f87d2aa2644"
      },
      "execution_count": 22,
      "outputs": [
        {
          "output_type": "execute_result",
          "data": {
            "text/plain": [
              "175"
            ]
          },
          "metadata": {},
          "execution_count": 22
        }
      ]
    },
    {
      "cell_type": "code",
      "source": [
        "model.fit(x_train, epochs = 10, validation_data=x_test, steps_per_epoch=len(x_train), validation_steps=len(x_test))"
      ],
      "metadata": {
        "colab": {
          "base_uri": "https://localhost:8080/"
        },
        "id": "ChGDMYdUZBAk",
        "outputId": "cd0774fb-e8bd-410d-e138-75df0d45576f"
      },
      "execution_count": 23,
      "outputs": [
        {
          "output_type": "stream",
          "name": "stdout",
          "text": [
            "Epoch 1/10\n",
            "175/175 [==============================] - 968s 6s/step - loss: 1.3125 - accuracy: 0.4602 - val_loss: 0.9873 - val_accuracy: 0.6136\n",
            "Epoch 2/10\n",
            "175/175 [==============================] - 43s 243ms/step - loss: 1.0881 - accuracy: 0.5590 - val_loss: 1.1309 - val_accuracy: 0.6162\n",
            "Epoch 3/10\n",
            "175/175 [==============================] - 43s 246ms/step - loss: 0.9973 - accuracy: 0.6085 - val_loss: 0.8423 - val_accuracy: 0.6793\n",
            "Epoch 4/10\n",
            "175/175 [==============================] - 43s 243ms/step - loss: 0.9676 - accuracy: 0.6183 - val_loss: 0.8232 - val_accuracy: 0.7197\n",
            "Epoch 5/10\n",
            "175/175 [==============================] - 43s 243ms/step - loss: 0.8885 - accuracy: 0.6534 - val_loss: 0.7422 - val_accuracy: 0.7399\n",
            "Epoch 6/10\n",
            "175/175 [==============================] - 43s 243ms/step - loss: 0.8641 - accuracy: 0.6652 - val_loss: 0.7974 - val_accuracy: 0.7374\n",
            "Epoch 7/10\n",
            "175/175 [==============================] - 42s 242ms/step - loss: 0.8307 - accuracy: 0.6805 - val_loss: 0.7565 - val_accuracy: 0.7146\n",
            "Epoch 8/10\n",
            "175/175 [==============================] - 43s 243ms/step - loss: 0.8119 - accuracy: 0.6895 - val_loss: 0.7535 - val_accuracy: 0.7298\n",
            "Epoch 9/10\n",
            "175/175 [==============================] - 42s 242ms/step - loss: 0.7653 - accuracy: 0.7082 - val_loss: 0.8606 - val_accuracy: 0.6591\n",
            "Epoch 10/10\n",
            "175/175 [==============================] - 42s 240ms/step - loss: 0.7579 - accuracy: 0.7039 - val_loss: 0.9295 - val_accuracy: 0.6894\n"
          ]
        },
        {
          "output_type": "execute_result",
          "data": {
            "text/plain": [
              "<keras.callbacks.History at 0x7fa5f98a6310>"
            ]
          },
          "metadata": {},
          "execution_count": 23
        }
      ]
    },
    {
      "cell_type": "code",
      "source": [
        "model.save('flowers_prediction.h5')"
      ],
      "metadata": {
        "id": "fzZvSTeCfXGD"
      },
      "execution_count": 24,
      "outputs": []
    },
    {
      "cell_type": "markdown",
      "source": [
        "Testing\n"
      ],
      "metadata": {
        "id": "8tmzqd8Jflu-"
      }
    },
    {
      "cell_type": "code",
      "source": [
        "from tensorflow.keras.models import load_model\n",
        "from tensorflow.keras.preprocessing import image\n",
        "import numpy as np"
      ],
      "metadata": {
        "id": "UtzORquifpTu"
      },
      "execution_count": 25,
      "outputs": []
    },
    {
      "cell_type": "code",
      "source": [
        "model = load_model('flowers_prediction.h5')"
      ],
      "metadata": {
        "id": "Ne1yo310fwR5"
      },
      "execution_count": 26,
      "outputs": []
    },
    {
      "cell_type": "code",
      "source": [
        "picture = image.load_img(\"/content/drive/MyDrive/CNN ASS/flowers/Testing/rose/102501987_3cdb8e5394_n.jpg\",target_size=(64,64))"
      ],
      "metadata": {
        "id": "f-2X87eHf1Nj"
      },
      "execution_count": 35,
      "outputs": []
    },
    {
      "cell_type": "code",
      "source": [
        "picture"
      ],
      "metadata": {
        "colab": {
          "base_uri": "https://localhost:8080/",
          "height": 81
        },
        "id": "4-19cC5MgVm-",
        "outputId": "12ac413a-fccc-4e1e-c406-667163458f5b"
      },
      "execution_count": 36,
      "outputs": [
        {
          "output_type": "execute_result",
          "data": {
            "text/plain": [
              "<PIL.Image.Image image mode=RGB size=64x64 at 0x7FA5F0732E90>"
            ],
            "image/png": "[encoded data removed]"
          },
          "metadata": {},
          "execution_count": 36
        }
      ]
    },
    {
      "cell_type": "code",
      "source": [
        "img= image.img_to_array(picture)"
      ],
      "metadata": {
        "id": "BiyrWMd6gX2y"
      },
      "execution_count": 30,
      "outputs": []
    },
    {
      "cell_type": "code",
      "source": [
        "img = np.expand_dims(img,axis = 0)"
      ],
      "metadata": {
        "id": "rgvAbHvwgddD"
      },
      "execution_count": 31,
      "outputs": []
    },
    {
      "cell_type": "code",
      "source": [
        "predict = model.predict(img)"
      ],
      "metadata": {
        "id": "9aF4cAlcgirg"
      },
      "execution_count": 32,
      "outputs": []
    },
    {
      "cell_type": "code",
      "source": [
        "labels =['daisy','dandelion','rose','sunflower','tulip']"
      ],
      "metadata": {
        "id": "fMxZPrMGgnfj"
      },
      "execution_count": 33,
      "outputs": []
    },
    {
      "cell_type": "code",
      "source": [
        "np.argmax(predict)\n",
        "labels[np.argmax(predict)]"
      ],
      "metadata": {
        "colab": {
          "base_uri": "https://localhost:8080/",
          "height": 35
        },
        "id": "VPeEZFwEgvEI",
        "outputId": "0a22ed97-982d-45a9-e637-101b1a903b5e"
      },
      "execution_count": 34,
      "outputs": [
        {
          "output_type": "execute_result",
          "data": {
            "text/plain": [
              "'rose'"
            ],
            "application/vnd.google.colaboratory.intrinsic+json": {
              "type": "string"
            }
          },
          "metadata": {},
          "execution_count": 34
        }
      ]
    }
  ]
}